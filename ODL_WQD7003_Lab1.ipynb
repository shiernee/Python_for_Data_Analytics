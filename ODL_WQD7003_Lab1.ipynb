{
  "nbformat": 4,
  "nbformat_minor": 0,
  "metadata": {
    "colab": {
      "provenance": [],
      "collapsed_sections": [
        "lgOw26_oM3mN",
        "Wb5hYFiHOJam",
        "MGfvuEQGWPKt",
        "m33CAuWXWuJJ",
        "c2ZFl6E_e4Nc"
      ]
    },
    "kernelspec": {
      "name": "python3",
      "display_name": "Python 3"
    },
    "language_info": {
      "name": "python"
    }
  },
  "cells": [
    {
      "cell_type": "markdown",
      "source": [
        "# Welcome to WQD7003 Data Analytics Lab\n",
        "This code is generated for the purpose of WQD7003 module.\n",
        "\n",
        "Created by Shier Nee Saw\n",
        "\n",
        "Reference: Python for Data Analysis O'Reily"
      ],
      "metadata": {
        "id": "rQFSozUl3c8N"
      }
    },
    {
      "cell_type": "markdown",
      "source": [
        "# Numpy\n",
        "\n",
        "NumPy, short for Numerical Python, is the fundamental package required for high\n",
        "performance scientific computing and data analysis. It is the foundation on which nearly all of the higher-level tools.\n",
        "\n",
        "While NumPy by itself does not provide very much high-level data analytical functionality, having an understanding of NumPy arrays and array-oriented computing will help you use tools like pandas much more effectively. If you’re new to Python and just looking to get your hands dirty working with data using pandas"
      ],
      "metadata": {
        "id": "MDdET1wvMGbi"
      }
    },
    {
      "cell_type": "markdown",
      "source": [
        "## The NumPy ndarray: A Multidimensional Array Object\n",
        "\n",
        "One of the key features of NumPy is its N-dimensional array object, or ndarray, which is a fast, flexible container for large data sets in Python. Arrays enable you to perform mathematical operations on whole blocks of data using similar syntax to the equivalent operations between scalar elements.\n",
        "\n",
        "The easiest way to create an array is to use the array function. This accepts any sequence-like object (including other arrays) and produces a new NumPy array containing the passed data. For example, a list is a good candidate for conversion."
      ],
      "metadata": {
        "id": "lgOw26_oM3mN"
      }
    },
    {
      "cell_type": "code",
      "execution_count": null,
      "metadata": {
        "colab": {
          "base_uri": "https://localhost:8080/"
        },
        "id": "jWHbwerCMGCm",
        "outputId": "54966fa7-e551-4026-aecc-e7accc494163"
      },
      "outputs": [
        {
          "output_type": "stream",
          "name": "stdout",
          "text": [
            "[6, 7.5, 8, 0, 1]\n",
            "<class 'list'>\n",
            "[6.  7.5 8.  0.  1. ]\n",
            "<class 'numpy.ndarray'>\n"
          ]
        }
      ],
      "source": [
        "data1 = [6, 7.5, 8, 0, 1]  # data1 is a list. list is characterized by the square bracket. []\n",
        "\n",
        "# convert to array, use the Numpy library conversion.\n",
        "import numpy as np\n",
        "\n",
        "arr1 = np.array(data1)\n",
        "\n",
        "print(data1)\n",
        "print(type(data1))\n",
        "print(arr1)\n",
        "print(type(arr1))"
      ]
    },
    {
      "cell_type": "code",
      "source": [
        "# Nested sequence, like a list of equal-length  lists, will be converted into multidimensional array\n",
        "data2 = [[1, 2, 3, 4],\n",
        "         [5, 6, 7, 8]]\n",
        "\n",
        "arr2 = np.array(data2)\n",
        "\n",
        "print(data2)\n",
        "print(type(data2))\n",
        "print(np.shape(data2))\n",
        "print('----')\n",
        "print(arr2)\n",
        "print(type(arr2))\n",
        "print(np.shape(arr2))"
      ],
      "metadata": {
        "colab": {
          "base_uri": "https://localhost:8080/"
        },
        "id": "oOYApInPNpTs",
        "outputId": "21de2e58-2272-4275-ad3c-f3ddf639c631"
      },
      "execution_count": null,
      "outputs": [
        {
          "output_type": "stream",
          "name": "stdout",
          "text": [
            "[[1, 2, 3, 4], [5, 6, 7, 8]]\n",
            "<class 'list'>\n",
            "(2, 4)\n",
            "----\n",
            "[[1 2 3 4]\n",
            " [5 6 7 8]]\n",
            "<class 'numpy.ndarray'>\n",
            "(2, 4)\n"
          ]
        }
      ]
    },
    {
      "cell_type": "code",
      "source": [
        "# create zero or ones array\n",
        "# create a zero array with a length of 10\n",
        "\n",
        "np.zeros(10)"
      ],
      "metadata": {
        "colab": {
          "base_uri": "https://localhost:8080/"
        },
        "id": "pE65OD9DOKdh",
        "outputId": "094c017d-082b-4de1-e432-9aa51a4e26cc"
      },
      "execution_count": null,
      "outputs": [
        {
          "output_type": "stream",
          "name": "stdout",
          "text": [
            "[0. 0. 0. 0. 0. 0. 0. 0. 0. 0.]\n"
          ]
        }
      ]
    },
    {
      "cell_type": "code",
      "source": [
        "# create a 2D zero array with a shape of 3 rows and 6 columns\n",
        "\n",
        "np.zeros((3,6))"
      ],
      "metadata": {
        "colab": {
          "base_uri": "https://localhost:8080/"
        },
        "id": "fxjiMUszR3S7",
        "outputId": "e57270b8-c9cc-46a6-f5f3-03fc1d5de710"
      },
      "execution_count": null,
      "outputs": [
        {
          "output_type": "stream",
          "name": "stdout",
          "text": [
            "[[0. 0. 0. 0. 0. 0.]\n",
            " [0. 0. 0. 0. 0. 0.]\n",
            " [0. 0. 0. 0. 0. 0.]]\n"
          ]
        }
      ]
    },
    {
      "cell_type": "code",
      "source": [
        "# create a 3D empty array with a shape of (2, 3, 2)\n",
        "# the empty creates an array without initializing its values to any particular value.\n",
        "\n",
        "np.empty((2,3,2))"
      ],
      "metadata": {
        "colab": {
          "base_uri": "https://localhost:8080/"
        },
        "id": "Xw3jDALZSEuQ",
        "outputId": "127c6087-9891-48c3-cfd4-bd864b8c7a20"
      },
      "execution_count": null,
      "outputs": [
        {
          "output_type": "execute_result",
          "data": {
            "text/plain": [
              "array([[[4.92877158e-310, 0.00000000e+000],\n",
              "        [0.00000000e+000, 0.00000000e+000],\n",
              "        [0.00000000e+000, 0.00000000e+000]],\n",
              "\n",
              "       [[0.00000000e+000, 0.00000000e+000],\n",
              "        [0.00000000e+000, 0.00000000e+000],\n",
              "        [0.00000000e+000, 0.00000000e+000]]])"
            ]
          },
          "metadata": {},
          "execution_count": 10
        }
      ]
    },
    {
      "cell_type": "code",
      "source": [
        "# create an array with evenly spaced values within a given interval.\n",
        "# https://numpy.org/doc/stable/reference/generated/numpy.arange.html\n",
        "\n",
        "# create an array from 0 to 14\n",
        "np.arange(15)"
      ],
      "metadata": {
        "colab": {
          "base_uri": "https://localhost:8080/"
        },
        "id": "fxG7ogcDSZum",
        "outputId": "f821dbb0-3ab8-40c0-e8b8-36d2e6b09daf"
      },
      "execution_count": null,
      "outputs": [
        {
          "output_type": "execute_result",
          "data": {
            "text/plain": [
              "array([ 0,  1,  2,  3,  4,  5,  6,  7,  8,  9, 10, 11, 12, 13, 14])"
            ]
          },
          "metadata": {},
          "execution_count": 11
        }
      ]
    },
    {
      "cell_type": "code",
      "source": [
        "# create an array from 2 to 9\n",
        "np.arange(2, 10)"
      ],
      "metadata": {
        "colab": {
          "base_uri": "https://localhost:8080/"
        },
        "id": "hxdG6dECTCbF",
        "outputId": "b392bb36-cd1c-4615-fe41-82bbd0fc1c0c"
      },
      "execution_count": null,
      "outputs": [
        {
          "output_type": "execute_result",
          "data": {
            "text/plain": [
              "array([2, 3, 4, 5, 6, 7, 8, 9])"
            ]
          },
          "metadata": {},
          "execution_count": 14
        }
      ]
    },
    {
      "cell_type": "code",
      "source": [
        "# create an array from 2 to 9 with step of 2\n",
        "\n",
        "np.arange(2, 10, 2)"
      ],
      "metadata": {
        "colab": {
          "base_uri": "https://localhost:8080/"
        },
        "id": "vvlWp6PDTJ2m",
        "outputId": "82b57931-a842-48db-d130-838049623f53"
      },
      "execution_count": null,
      "outputs": [
        {
          "output_type": "execute_result",
          "data": {
            "text/plain": [
              "array([2, 4, 6, 8])"
            ]
          },
          "metadata": {},
          "execution_count": 15
        }
      ]
    },
    {
      "cell_type": "markdown",
      "source": [
        "## Data Types for ndarrays\n",
        "\n",
        "The data type or dtype is a special object containing the information the ndarray needs to interpret a chunk of memory as a particular type of data:"
      ],
      "metadata": {
        "id": "Wb5hYFiHOJam"
      }
    },
    {
      "cell_type": "code",
      "source": [
        "# create array with float64 dtype\n",
        "\n",
        "np.array([1,2,3], dtype=np.float64)"
      ],
      "metadata": {
        "colab": {
          "base_uri": "https://localhost:8080/"
        },
        "id": "sXbqUoRATi06",
        "outputId": "aa330f41-ac79-4745-c492-44c8f76eaa2d"
      },
      "execution_count": null,
      "outputs": [
        {
          "output_type": "execute_result",
          "data": {
            "text/plain": [
              "array([1., 2., 3.])"
            ]
          },
          "metadata": {},
          "execution_count": 16
        }
      ]
    },
    {
      "cell_type": "code",
      "source": [
        "# create array with int32 dtype\n",
        "\n",
        "np.array([1,2,3], dtype=np.int32)"
      ],
      "metadata": {
        "colab": {
          "base_uri": "https://localhost:8080/"
        },
        "id": "4cZmNfI7ToFe",
        "outputId": "a52211c8-ed12-4892-8b61-1913678b2362"
      },
      "execution_count": null,
      "outputs": [
        {
          "output_type": "execute_result",
          "data": {
            "text/plain": [
              "array([1, 2, 3], dtype=int32)"
            ]
          },
          "metadata": {},
          "execution_count": 17
        }
      ]
    },
    {
      "cell_type": "code",
      "source": [
        "# to check the type\n",
        "\n",
        "arr = np.array([1,2,3,4,5])\n",
        "arr.dtype"
      ],
      "metadata": {
        "colab": {
          "base_uri": "https://localhost:8080/"
        },
        "id": "AV_6mIiST0dp",
        "outputId": "f70f4694-fae3-4bb8-eb8d-7d51018f532b"
      },
      "execution_count": null,
      "outputs": [
        {
          "output_type": "execute_result",
          "data": {
            "text/plain": [
              "dtype('int64')"
            ]
          },
          "metadata": {},
          "execution_count": 18
        }
      ]
    },
    {
      "cell_type": "code",
      "source": [
        "# to change it to float64\n",
        "float_arr = arr.astype(np.float64)\n",
        "\n",
        "float_arr.dtype"
      ],
      "metadata": {
        "colab": {
          "base_uri": "https://localhost:8080/"
        },
        "id": "JvB5NVibT7oP",
        "outputId": "c8138425-503c-4a93-d83e-8ff7a9eeb0f2"
      },
      "execution_count": null,
      "outputs": [
        {
          "output_type": "execute_result",
          "data": {
            "text/plain": [
              "dtype('float64')"
            ]
          },
          "metadata": {},
          "execution_count": 19
        }
      ]
    },
    {
      "cell_type": "code",
      "source": [
        "arr = np.array([3.7, -1.2, -2.6, 0.5, 12.9, 10.1])\n",
        "\n",
        "# if cast the floating point number to be of integer dtype, the decimal part will be truncated.\n",
        "arr.astype(np.int32)"
      ],
      "metadata": {
        "colab": {
          "base_uri": "https://localhost:8080/"
        },
        "id": "BQFhUUIWUJ4d",
        "outputId": "a4e2415f-b86d-4aad-ed66-0599124b25b4"
      },
      "execution_count": null,
      "outputs": [
        {
          "output_type": "execute_result",
          "data": {
            "text/plain": [
              "array([ 3, -1, -2,  0, 12, 10], dtype=int32)"
            ]
          },
          "metadata": {},
          "execution_count": 20
        }
      ]
    },
    {
      "cell_type": "markdown",
      "source": [
        "Should you have an array of strings representing numbers, you can use astype to convert\n",
        "them to numeric form."
      ],
      "metadata": {
        "id": "46MO8dtFVlKG"
      }
    },
    {
      "cell_type": "code",
      "source": [
        "numeric_strings = np.array(['1.25', '-9.6', '42'], dtype=np.string_)\n",
        "numeric_strings.astype(float)\n"
      ],
      "metadata": {
        "colab": {
          "base_uri": "https://localhost:8080/"
        },
        "id": "iVOrCyREVjKd",
        "outputId": "97da90da-3b5c-4530-d3ff-fbc705a52bb5"
      },
      "execution_count": null,
      "outputs": [
        {
          "output_type": "execute_result",
          "data": {
            "text/plain": [
              "array([ 1.25, -9.6 , 42.  ])"
            ]
          },
          "metadata": {},
          "execution_count": 21
        }
      ]
    },
    {
      "cell_type": "markdown",
      "source": [
        "## Operation between arrays and scalars.\n",
        "\n",
        "Arrays are important because they enable you to express batch operations on data without writing any for loops. This is usually called vectorization. Any arithmetic operations between equal-size arrays applies the operation elementwise:"
      ],
      "metadata": {
        "id": "MGfvuEQGWPKt"
      }
    },
    {
      "cell_type": "code",
      "source": [
        "arr = np.array([[1., 2., 3.],\n",
        "                [4., 5., 6.]])\n",
        "\n",
        "print(arr)"
      ],
      "metadata": {
        "colab": {
          "base_uri": "https://localhost:8080/"
        },
        "id": "qREm3fKGVn5x",
        "outputId": "7812329b-76c8-4976-cd47-2341c509bdcb"
      },
      "execution_count": null,
      "outputs": [
        {
          "output_type": "stream",
          "name": "stdout",
          "text": [
            "[[1. 2. 3.]\n",
            " [4. 5. 6.]]\n"
          ]
        }
      ]
    },
    {
      "cell_type": "code",
      "source": [
        "arr*arr"
      ],
      "metadata": {
        "colab": {
          "base_uri": "https://localhost:8080/"
        },
        "id": "zwLkL11_WXlE",
        "outputId": "5d8f5055-c3a9-4520-c0a8-d2d07a19cc0b"
      },
      "execution_count": null,
      "outputs": [
        {
          "output_type": "execute_result",
          "data": {
            "text/plain": [
              "array([[ 1.,  4.,  9.],\n",
              "       [16., 25., 36.]])"
            ]
          },
          "metadata": {},
          "execution_count": 23
        }
      ]
    },
    {
      "cell_type": "code",
      "source": [
        "arr - arr"
      ],
      "metadata": {
        "colab": {
          "base_uri": "https://localhost:8080/"
        },
        "id": "V8QTX2GhWXas",
        "outputId": "385aae73-cf3c-4428-cf01-a54cd17433b1"
      },
      "execution_count": null,
      "outputs": [
        {
          "output_type": "execute_result",
          "data": {
            "text/plain": [
              "array([[0., 0., 0.],\n",
              "       [0., 0., 0.]])"
            ]
          },
          "metadata": {},
          "execution_count": 24
        }
      ]
    },
    {
      "cell_type": "code",
      "source": [
        "1 / arr"
      ],
      "metadata": {
        "colab": {
          "base_uri": "https://localhost:8080/"
        },
        "id": "JhnvVtE-WXMs",
        "outputId": "068ac375-7a76-423d-f81b-a4f2293b7196"
      },
      "execution_count": null,
      "outputs": [
        {
          "output_type": "execute_result",
          "data": {
            "text/plain": [
              "array([[1.        , 0.5       , 0.33333333],\n",
              "       [0.25      , 0.2       , 0.16666667]])"
            ]
          },
          "metadata": {},
          "execution_count": 25
        }
      ]
    },
    {
      "cell_type": "code",
      "source": [
        "arr ** 0.5"
      ],
      "metadata": {
        "colab": {
          "base_uri": "https://localhost:8080/"
        },
        "id": "dUnevLzUWg4H",
        "outputId": "71ab0636-0975-4aca-89c7-8a7c1e9b8226"
      },
      "execution_count": null,
      "outputs": [
        {
          "output_type": "execute_result",
          "data": {
            "text/plain": [
              "array([[1.        , 1.41421356, 1.73205081],\n",
              "       [2.        , 2.23606798, 2.44948974]])"
            ]
          },
          "metadata": {},
          "execution_count": 26
        }
      ]
    },
    {
      "cell_type": "markdown",
      "source": [
        "## Basic Indexing and Slicing\n",
        "\n",
        "NumPy array indexing is a rich topic, as there are many ways you may want to select a subset of your data or individual elements. One-dimensional arrays are simple; on the surface they act similarly to Python lists:\n",
        "\n",
        "Indexing in Python starts at 0, which means that the first element in a sequence has an index of 0, the second element has an index of 1, and so on.\n",
        "\n",
        "In Python, when you slice a sequence like a list or a string using the slicing notation *start:stop*, the element at the start index is included, but the element at the *stop* index is **excluded**. This means that the slice goes up to, but does not include, the element at the stop index"
      ],
      "metadata": {
        "id": "m33CAuWXWuJJ"
      }
    },
    {
      "cell_type": "code",
      "source": [
        "arr = np.arange(10)\n",
        "arr"
      ],
      "metadata": {
        "colab": {
          "base_uri": "https://localhost:8080/"
        },
        "id": "boYgkJtBWzVN",
        "outputId": "7cbcdf7d-d6d9-4f3c-ce4d-a95dba1af856"
      },
      "execution_count": null,
      "outputs": [
        {
          "output_type": "execute_result",
          "data": {
            "text/plain": [
              "array([0, 1, 2, 3, 4, 5, 6, 7, 8, 9])"
            ]
          },
          "metadata": {},
          "execution_count": 34
        }
      ]
    },
    {
      "cell_type": "code",
      "source": [
        "# access all of the element\n",
        "\n",
        "arr[:]"
      ],
      "metadata": {
        "colab": {
          "base_uri": "https://localhost:8080/"
        },
        "id": "jahgRu29X2U9",
        "outputId": "2964d243-6ee0-4ecf-d97b-b513e6c5c70b"
      },
      "execution_count": null,
      "outputs": [
        {
          "output_type": "execute_result",
          "data": {
            "text/plain": [
              "array([0, 1, 2, 3, 4, 5, 6, 7, 8, 9])"
            ]
          },
          "metadata": {},
          "execution_count": 35
        }
      ]
    },
    {
      "cell_type": "code",
      "source": [
        "# index always starts at 0\n",
        "# the following code access the sixth element\n",
        "\n",
        "arr[5]"
      ],
      "metadata": {
        "colab": {
          "base_uri": "https://localhost:8080/"
        },
        "id": "mLICPN2fW0vQ",
        "outputId": "d33db54b-e9e6-4c3b-fd7f-6add6e3499a9"
      },
      "execution_count": null,
      "outputs": [
        {
          "output_type": "execute_result",
          "data": {
            "text/plain": [
              "5"
            ]
          },
          "metadata": {},
          "execution_count": 36
        }
      ]
    },
    {
      "cell_type": "code",
      "source": [
        "# to access the sixth to eighth element\n",
        "\n",
        "arr[5:8]"
      ],
      "metadata": {
        "colab": {
          "base_uri": "https://localhost:8080/"
        },
        "id": "NvEHsSvOXDdb",
        "outputId": "f2e73b20-992f-437d-ae62-efcbabac3a07"
      },
      "execution_count": null,
      "outputs": [
        {
          "output_type": "execute_result",
          "data": {
            "text/plain": [
              "array([5, 6, 7])"
            ]
          },
          "metadata": {},
          "execution_count": 37
        }
      ]
    },
    {
      "cell_type": "code",
      "source": [
        "# assign value 12 to sixth to eighth element\n",
        "\n",
        "arr[5:8] = 12\n",
        "print(arr)"
      ],
      "metadata": {
        "colab": {
          "base_uri": "https://localhost:8080/"
        },
        "id": "chJlN-s9XpD1",
        "outputId": "3ffd1fb8-7af6-45b7-c983-36399d24e95d"
      },
      "execution_count": null,
      "outputs": [
        {
          "output_type": "stream",
          "name": "stdout",
          "text": [
            "[ 0  1  2  3  4 12 12 12  8  9]\n"
          ]
        }
      ]
    },
    {
      "cell_type": "markdown",
      "source": [
        "### 2D dimension array\n",
        "\n"
      ],
      "metadata": {
        "id": "r4luYkKpX9Z9"
      }
    },
    {
      "cell_type": "code",
      "source": [
        "arr2d = np.array([[1, 2, 3],\n",
        "                  [4, 5, 6],\n",
        "                  [7, 8, 9]])\n",
        "\n",
        "arr2d"
      ],
      "metadata": {
        "colab": {
          "base_uri": "https://localhost:8080/"
        },
        "id": "veKJmmrQYIB-",
        "outputId": "c7967b15-ed79-43ae-9675-b00e702fa0a1"
      },
      "execution_count": null,
      "outputs": [
        {
          "output_type": "execute_result",
          "data": {
            "text/plain": [
              "array([[1, 2, 3],\n",
              "       [4, 5, 6],\n",
              "       [7, 8, 9]])"
            ]
          },
          "metadata": {},
          "execution_count": 39
        }
      ]
    },
    {
      "cell_type": "code",
      "source": [
        "# access the third row\n",
        "\n",
        "arr2d[2]"
      ],
      "metadata": {
        "colab": {
          "base_uri": "https://localhost:8080/"
        },
        "id": "I1aU3tZGYO3U",
        "outputId": "43337c45-40a2-4e50-eac3-a28625f03ac4"
      },
      "execution_count": null,
      "outputs": [
        {
          "output_type": "execute_result",
          "data": {
            "text/plain": [
              "array([7, 8, 9])"
            ]
          },
          "metadata": {},
          "execution_count": 40
        }
      ]
    },
    {
      "cell_type": "code",
      "source": [
        "arr2d[2][2]"
      ],
      "metadata": {
        "colab": {
          "base_uri": "https://localhost:8080/"
        },
        "id": "2n2xAzn_YRNt",
        "outputId": "904ad4fa-e76c-46a2-926f-4a811b44d409"
      },
      "execution_count": null,
      "outputs": [
        {
          "output_type": "execute_result",
          "data": {
            "text/plain": [
              "9"
            ]
          },
          "metadata": {},
          "execution_count": 41
        }
      ]
    },
    {
      "cell_type": "code",
      "source": [
        "arr2d[2, 2]"
      ],
      "metadata": {
        "colab": {
          "base_uri": "https://localhost:8080/"
        },
        "id": "ZRVPPUSeYWvs",
        "outputId": "0ca3d16b-2e70-43be-fb65-976372ee7967"
      },
      "execution_count": null,
      "outputs": [
        {
          "output_type": "execute_result",
          "data": {
            "text/plain": [
              "9"
            ]
          },
          "metadata": {},
          "execution_count": 42
        }
      ]
    },
    {
      "cell_type": "code",
      "source": [
        "# acccess first row to the second row\n",
        "\n",
        "arr2d[:2]"
      ],
      "metadata": {
        "colab": {
          "base_uri": "https://localhost:8080/"
        },
        "id": "_y9sFLCbYiYV",
        "outputId": "0f8d0258-9d17-49c2-885c-9ab4c1798297"
      },
      "execution_count": null,
      "outputs": [
        {
          "output_type": "execute_result",
          "data": {
            "text/plain": [
              "array([[1, 2, 3],\n",
              "       [4, 5, 6]])"
            ]
          },
          "metadata": {},
          "execution_count": 43
        }
      ]
    },
    {
      "cell_type": "code",
      "source": [
        "# acccess second row to the last row\n",
        "\n",
        "arr2d[1:]"
      ],
      "metadata": {
        "colab": {
          "base_uri": "https://localhost:8080/"
        },
        "id": "9cCi7PFgYlMd",
        "outputId": "737ee9ef-3a05-425e-f355-6185333a0848"
      },
      "execution_count": null,
      "outputs": [
        {
          "output_type": "execute_result",
          "data": {
            "text/plain": [
              "array([[7, 8, 9]])"
            ]
          },
          "metadata": {},
          "execution_count": 45
        }
      ]
    },
    {
      "cell_type": "code",
      "source": [
        "# access first to second row, second to last column\n",
        "\n",
        "arr2d[:2, 1:]"
      ],
      "metadata": {
        "colab": {
          "base_uri": "https://localhost:8080/"
        },
        "id": "JVvGP5d9cD6u",
        "outputId": "e5581432-2f9f-4b74-b5e0-92e5a80be3c5"
      },
      "execution_count": null,
      "outputs": [
        {
          "output_type": "execute_result",
          "data": {
            "text/plain": [
              "array([[2, 3],\n",
              "       [5, 6]])"
            ]
          },
          "metadata": {},
          "execution_count": 53
        }
      ]
    },
    {
      "cell_type": "markdown",
      "source": [
        "#### Try changing the number in the index and see what happen"
      ],
      "metadata": {
        "id": "QbJ8E0eVYY4k"
      }
    },
    {
      "cell_type": "code",
      "source": [
        "# In multidimensional arrays, if you omit later indices, the returned object will be a lowerdimensional\n",
        "# ndarray consisting of all the data along the higher dimensions.\n",
        "\n",
        "arr3d = np.array([[[1, 2, 3], [4, 5, 6]], [[7, 8, 9], [10, 11, 12]]])\n",
        "\n",
        "arr3d"
      ],
      "metadata": {
        "colab": {
          "base_uri": "https://localhost:8080/"
        },
        "id": "EAH3bGOkbYxz",
        "outputId": "17476837-bedc-47a6-8d47-7cbfda7d4408"
      },
      "execution_count": null,
      "outputs": [
        {
          "output_type": "execute_result",
          "data": {
            "text/plain": [
              "array([[[ 1,  2,  3],\n",
              "        [ 4,  5,  6]],\n",
              "\n",
              "       [[ 7,  8,  9],\n",
              "        [10, 11, 12]]])"
            ]
          },
          "metadata": {},
          "execution_count": 46
        }
      ]
    },
    {
      "cell_type": "code",
      "source": [
        "# arr3d[0] is a 2x3 array\n",
        "\n",
        "arr3d[0]"
      ],
      "metadata": {
        "colab": {
          "base_uri": "https://localhost:8080/"
        },
        "id": "3pOAtgIabjfS",
        "outputId": "cd1c0b1a-788a-4625-f64d-29d9417ba689"
      },
      "execution_count": null,
      "outputs": [
        {
          "output_type": "execute_result",
          "data": {
            "text/plain": [
              "array([[1, 2, 3],\n",
              "       [4, 5, 6]])"
            ]
          },
          "metadata": {},
          "execution_count": 47
        }
      ]
    },
    {
      "cell_type": "code",
      "source": [
        "# assign 42 to arr3d[0]\n",
        "\n",
        "arr3d[0] =42\n",
        "\n",
        "arr3d"
      ],
      "metadata": {
        "colab": {
          "base_uri": "https://localhost:8080/"
        },
        "id": "4EZJweVtbqaD",
        "outputId": "cf684fc2-3c40-4d90-f40d-58c1fc3ea582"
      },
      "execution_count": null,
      "outputs": [
        {
          "output_type": "execute_result",
          "data": {
            "text/plain": [
              "array([[[42, 42, 42],\n",
              "        [42, 42, 42]],\n",
              "\n",
              "       [[ 7,  8,  9],\n",
              "        [10, 11, 12]]])"
            ]
          },
          "metadata": {},
          "execution_count": 49
        }
      ]
    },
    {
      "cell_type": "code",
      "source": [
        "# access [7,8,9] in arr3d\n",
        "\n",
        "arr3d[1, 0]"
      ],
      "metadata": {
        "colab": {
          "base_uri": "https://localhost:8080/"
        },
        "id": "Z7RNg4UYbz9c",
        "outputId": "d0ff724c-ca7c-4cc2-e22c-fed7a5ae21db"
      },
      "execution_count": null,
      "outputs": [
        {
          "output_type": "execute_result",
          "data": {
            "text/plain": [
              "array([7, 8, 9])"
            ]
          },
          "metadata": {},
          "execution_count": 52
        }
      ]
    },
    {
      "cell_type": "markdown",
      "source": [
        "### Boolean Indexing"
      ],
      "metadata": {
        "id": "96hBzLc0cQMN"
      }
    },
    {
      "cell_type": "code",
      "source": [
        "names = np.array(['Bob', 'Joe', 'Will', 'Bob', 'Will', 'Joe', 'Joe'])\n",
        "\n",
        "# create random number with 7 rows, 4 columns\n",
        "data = np.random.randn(7, 4)\n",
        "\n",
        "print(names)\n",
        "print(data)"
      ],
      "metadata": {
        "colab": {
          "base_uri": "https://localhost:8080/"
        },
        "id": "GYdupMRbcUkE",
        "outputId": "3a081df6-5dcf-428b-9a0b-f6b50990ec39"
      },
      "execution_count": null,
      "outputs": [
        {
          "output_type": "stream",
          "name": "stdout",
          "text": [
            "['Bob' 'Joe' 'Will' 'Bob' 'Will' 'Joe' 'Joe']\n",
            "[[ 1.24341084  0.79903366  1.27172582 -0.31370933]\n",
            " [-0.48076604 -1.63026165  0.25192941 -0.80619438]\n",
            " [ 0.2770762  -0.55287602 -0.76008945 -2.18356506]\n",
            " [-0.29473529  0.54166965 -0.31415767  0.24913856]\n",
            " [ 0.27952021  0.23732492 -0.92491976 -0.02048626]\n",
            " [-1.1895586   0.71996981 -0.69663628  1.9649108 ]\n",
            " [ 0.30603383  1.89724641  0.47380906 -0.11777111]]\n"
          ]
        }
      ]
    },
    {
      "cell_type": "code",
      "source": [
        "# check the elements in names if equal to 'Bob'\n",
        "# First and forth elements return True, the rest returns False.\n",
        "\n",
        "names == 'Bob'"
      ],
      "metadata": {
        "colab": {
          "base_uri": "https://localhost:8080/"
        },
        "id": "LR2ZL2Mtcwea",
        "outputId": "70292258-f816-4568-f157-09e2c69ac909"
      },
      "execution_count": null,
      "outputs": [
        {
          "output_type": "execute_result",
          "data": {
            "text/plain": [
              "array([ True, False, False,  True, False, False, False])"
            ]
          },
          "metadata": {},
          "execution_count": 58
        }
      ]
    },
    {
      "cell_type": "code",
      "source": [
        "# only the first and forth elements in data will be displayed.\n",
        "\n",
        "data[names == 'Bob']"
      ],
      "metadata": {
        "colab": {
          "base_uri": "https://localhost:8080/"
        },
        "id": "Kr5wEhwYc_PC",
        "outputId": "dc54c3c1-b0e4-456c-bfea-96e8688d1691"
      },
      "execution_count": null,
      "outputs": [
        {
          "output_type": "execute_result",
          "data": {
            "text/plain": [
              "array([[ 1.24341084,  0.79903366,  1.27172582, -0.31370933],\n",
              "       [-0.29473529,  0.54166965, -0.31415767,  0.24913856]])"
            ]
          },
          "metadata": {},
          "execution_count": 60
        }
      ]
    },
    {
      "cell_type": "code",
      "source": [
        "# Mix and match boolean arrays\n",
        "\n",
        "data[names == 'Bob', 2:]"
      ],
      "metadata": {
        "colab": {
          "base_uri": "https://localhost:8080/"
        },
        "id": "4jDEg48QdOOs",
        "outputId": "d988cb15-eda7-4486-f869-7f395595cf31"
      },
      "execution_count": null,
      "outputs": [
        {
          "output_type": "execute_result",
          "data": {
            "text/plain": [
              "array([[ 1.27172582, -0.31370933],\n",
              "       [-0.31415767,  0.24913856]])"
            ]
          },
          "metadata": {},
          "execution_count": 61
        }
      ]
    },
    {
      "cell_type": "code",
      "source": [
        "data[names == 'Bob', 3]"
      ],
      "metadata": {
        "colab": {
          "base_uri": "https://localhost:8080/"
        },
        "id": "c5go1A3VdUXS",
        "outputId": "e8b66bc1-480e-4358-e1d1-fd67a92addb8"
      },
      "execution_count": null,
      "outputs": [
        {
          "output_type": "execute_result",
          "data": {
            "text/plain": [
              "array([-0.31370933,  0.24913856])"
            ]
          },
          "metadata": {},
          "execution_count": 62
        }
      ]
    },
    {
      "cell_type": "code",
      "source": [
        "# To select everything but 'Bob', use != or ~\n",
        "\n",
        "names != 'Bob'"
      ],
      "metadata": {
        "colab": {
          "base_uri": "https://localhost:8080/"
        },
        "id": "Y8hwNew7dXRi",
        "outputId": "d180dfc9-ae5d-4147-c12d-d316c8334be0"
      },
      "execution_count": null,
      "outputs": [
        {
          "output_type": "execute_result",
          "data": {
            "text/plain": [
              "array([False,  True,  True, False,  True,  True,  True])"
            ]
          },
          "metadata": {},
          "execution_count": 63
        }
      ]
    },
    {
      "cell_type": "code",
      "source": [
        "data[names != 'Bob']"
      ],
      "metadata": {
        "colab": {
          "base_uri": "https://localhost:8080/"
        },
        "id": "ou643xayde0j",
        "outputId": "590b5921-6195-41e7-9b0b-e4f19acd94c2"
      },
      "execution_count": null,
      "outputs": [
        {
          "output_type": "execute_result",
          "data": {
            "text/plain": [
              "array([[-0.48076604, -1.63026165,  0.25192941, -0.80619438],\n",
              "       [ 0.2770762 , -0.55287602, -0.76008945, -2.18356506],\n",
              "       [ 0.27952021,  0.23732492, -0.92491976, -0.02048626],\n",
              "       [-1.1895586 ,  0.71996981, -0.69663628,  1.9649108 ],\n",
              "       [ 0.30603383,  1.89724641,  0.47380906, -0.11777111]])"
            ]
          },
          "metadata": {},
          "execution_count": 64
        }
      ]
    },
    {
      "cell_type": "code",
      "source": [
        "data[~(names == 'Bob')]"
      ],
      "metadata": {
        "colab": {
          "base_uri": "https://localhost:8080/"
        },
        "id": "UufO5clPdj7F",
        "outputId": "29061e3c-8782-46ca-cede-196f75619767"
      },
      "execution_count": null,
      "outputs": [
        {
          "output_type": "execute_result",
          "data": {
            "text/plain": [
              "array([[-0.48076604, -1.63026165,  0.25192941, -0.80619438],\n",
              "       [ 0.2770762 , -0.55287602, -0.76008945, -2.18356506],\n",
              "       [ 0.27952021,  0.23732492, -0.92491976, -0.02048626],\n",
              "       [-1.1895586 ,  0.71996981, -0.69663628,  1.9649108 ],\n",
              "       [ 0.30603383,  1.89724641,  0.47380906, -0.11777111]])"
            ]
          },
          "metadata": {},
          "execution_count": 66
        }
      ]
    },
    {
      "cell_type": "code",
      "source": [
        "# Combine multiple boolean condition, use boolean operator & or |\n",
        "\n",
        "# return True if names equals to 'Bob' or 'Will'\n",
        "mask = (names == 'Bob') | (names == 'Will')\n",
        "mask"
      ],
      "metadata": {
        "colab": {
          "base_uri": "https://localhost:8080/"
        },
        "id": "n3J9UhnVdsI2",
        "outputId": "157a79b0-fde6-441f-d546-6d3cb48b3be3"
      },
      "execution_count": null,
      "outputs": [
        {
          "output_type": "execute_result",
          "data": {
            "text/plain": [
              "array([ True, False,  True,  True,  True, False, False])"
            ]
          },
          "metadata": {},
          "execution_count": 68
        }
      ]
    },
    {
      "cell_type": "code",
      "source": [
        "# return value only for index with True in mask\n",
        "\n",
        "print(data)\n",
        "print('----')\n",
        "print(data[mask])"
      ],
      "metadata": {
        "colab": {
          "base_uri": "https://localhost:8080/"
        },
        "id": "gJKLZJ5ceDXT",
        "outputId": "5c6669a8-071a-4eb2-b620-6e52a19bdbe5"
      },
      "execution_count": null,
      "outputs": [
        {
          "output_type": "stream",
          "name": "stdout",
          "text": [
            "[[ 1.24341084  0.79903366  1.27172582 -0.31370933]\n",
            " [-0.48076604 -1.63026165  0.25192941 -0.80619438]\n",
            " [ 0.2770762  -0.55287602 -0.76008945 -2.18356506]\n",
            " [-0.29473529  0.54166965 -0.31415767  0.24913856]\n",
            " [ 0.27952021  0.23732492 -0.92491976 -0.02048626]\n",
            " [-1.1895586   0.71996981 -0.69663628  1.9649108 ]\n",
            " [ 0.30603383  1.89724641  0.47380906 -0.11777111]]\n",
            "----\n",
            "[[ 1.24341084  0.79903366  1.27172582 -0.31370933]\n",
            " [ 0.2770762  -0.55287602 -0.76008945 -2.18356506]\n",
            " [-0.29473529  0.54166965 -0.31415767  0.24913856]\n",
            " [ 0.27952021  0.23732492 -0.92491976 -0.02048626]]\n"
          ]
        }
      ]
    },
    {
      "cell_type": "markdown",
      "source": [
        "**Selecting data from an array by boolean indexing always creates a copy of the data, even if the returned array is unchanged.**"
      ],
      "metadata": {
        "id": "GVML6ZvDeUHi"
      }
    },
    {
      "cell_type": "code",
      "source": [
        "# select element based on condition\n",
        "\n",
        "data[data < 0 ]"
      ],
      "metadata": {
        "colab": {
          "base_uri": "https://localhost:8080/"
        },
        "id": "xkWGIciieX7j",
        "outputId": "b7f6a855-7277-48ec-d3b3-a85b2bff2fe3"
      },
      "execution_count": null,
      "outputs": [
        {
          "output_type": "execute_result",
          "data": {
            "text/plain": [
              "array([-0.31370933, -0.48076604, -1.63026165, -0.80619438, -0.55287602,\n",
              "       -0.76008945, -2.18356506, -0.29473529, -0.31415767, -0.92491976,\n",
              "       -0.02048626, -1.1895586 , -0.69663628, -0.11777111])"
            ]
          },
          "metadata": {},
          "execution_count": 72
        }
      ]
    },
    {
      "cell_type": "code",
      "source": [
        "# set all negative values to zero\n",
        "data[data<0] = 0\n",
        "data"
      ],
      "metadata": {
        "colab": {
          "base_uri": "https://localhost:8080/"
        },
        "id": "vQzx2a2Bec9c",
        "outputId": "85d534f4-7277-4f34-885c-2ad5938da3fc"
      },
      "execution_count": null,
      "outputs": [
        {
          "output_type": "execute_result",
          "data": {
            "text/plain": [
              "array([[1.24341084, 0.79903366, 1.27172582, 0.        ],\n",
              "       [0.        , 0.        , 0.25192941, 0.        ],\n",
              "       [0.2770762 , 0.        , 0.        , 0.        ],\n",
              "       [0.        , 0.54166965, 0.        , 0.24913856],\n",
              "       [0.27952021, 0.23732492, 0.        , 0.        ],\n",
              "       [0.        , 0.71996981, 0.        , 1.9649108 ],\n",
              "       [0.30603383, 1.89724641, 0.47380906, 0.        ]])"
            ]
          },
          "metadata": {},
          "execution_count": 74
        }
      ]
    },
    {
      "cell_type": "code",
      "source": [
        "# set whole rows or columns\n",
        "\n",
        "print(names != 'Joe')\n",
        "\n",
        "data[names != 'Joe']  = 7\n",
        "data"
      ],
      "metadata": {
        "colab": {
          "base_uri": "https://localhost:8080/"
        },
        "id": "67E06I8Hel-m",
        "outputId": "fc7e9764-cd4e-4b02-9475-b8b442e639bd"
      },
      "execution_count": null,
      "outputs": [
        {
          "output_type": "stream",
          "name": "stdout",
          "text": [
            "[ True False  True  True  True False False]\n"
          ]
        },
        {
          "output_type": "execute_result",
          "data": {
            "text/plain": [
              "array([[7.        , 7.        , 7.        , 7.        ],\n",
              "       [0.        , 0.        , 0.25192941, 0.        ],\n",
              "       [7.        , 7.        , 7.        , 7.        ],\n",
              "       [7.        , 7.        , 7.        , 7.        ],\n",
              "       [7.        , 7.        , 7.        , 7.        ],\n",
              "       [0.        , 0.71996981, 0.        , 1.9649108 ],\n",
              "       [0.30603383, 1.89724641, 0.47380906, 0.        ]])"
            ]
          },
          "metadata": {},
          "execution_count": 78
        }
      ]
    },
    {
      "cell_type": "markdown",
      "source": [
        "## Tranposing Arrays and Swapping Axes\n",
        "\n",
        "Transposing is a special form of reshaping which similarly returns a view on the underlying data without copying anything. Arrays have the transpose method and also the special T attribute:"
      ],
      "metadata": {
        "id": "c2ZFl6E_e4Nc"
      }
    },
    {
      "cell_type": "code",
      "source": [
        "arr = np.arange(15).reshape((3, 5))\n",
        "arr"
      ],
      "metadata": {
        "colab": {
          "base_uri": "https://localhost:8080/"
        },
        "id": "z9zI1Z2ee9EK",
        "outputId": "a9375883-7a8e-416f-cbcb-85c56e377232"
      },
      "execution_count": null,
      "outputs": [
        {
          "output_type": "execute_result",
          "data": {
            "text/plain": [
              "array([[ 0,  1,  2,  3,  4],\n",
              "       [ 5,  6,  7,  8,  9],\n",
              "       [10, 11, 12, 13, 14]])"
            ]
          },
          "metadata": {},
          "execution_count": 79
        }
      ]
    },
    {
      "cell_type": "code",
      "source": [
        "arr.T"
      ],
      "metadata": {
        "colab": {
          "base_uri": "https://localhost:8080/"
        },
        "id": "uKNUgWdFfAyb",
        "outputId": "70f29cc9-5b4a-4e9c-b8ed-79abea1be66e"
      },
      "execution_count": null,
      "outputs": [
        {
          "output_type": "execute_result",
          "data": {
            "text/plain": [
              "array([[ 0,  5, 10],\n",
              "       [ 1,  6, 11],\n",
              "       [ 2,  7, 12],\n",
              "       [ 3,  8, 13],\n",
              "       [ 4,  9, 14]])"
            ]
          },
          "metadata": {},
          "execution_count": 80
        }
      ]
    },
    {
      "cell_type": "markdown",
      "source": [
        "When doing matrix computations, you will do this very often, like for example computing the inner matrix product."
      ],
      "metadata": {
        "id": "0O-OmlTUfcJS"
      }
    },
    {
      "cell_type": "code",
      "source": [
        "arr = np.random.randn(6, 3)\n",
        "\n",
        "np.dot(arr.T, arr)"
      ],
      "metadata": {
        "colab": {
          "base_uri": "https://localhost:8080/"
        },
        "id": "wAMecCgofDE7",
        "outputId": "56ffa2ba-bdd6-4e36-c1fe-1d7db0118bbb"
      },
      "execution_count": null,
      "outputs": [
        {
          "output_type": "execute_result",
          "data": {
            "text/plain": [
              "array([[ 3.78605455,  0.87551319, -1.52245127],\n",
              "       [ 0.87551319, 11.07474965, -2.46268363],\n",
              "       [-1.52245127, -2.46268363,  7.39486993]])"
            ]
          },
          "metadata": {},
          "execution_count": 81
        }
      ]
    },
    {
      "cell_type": "markdown",
      "source": [
        "## Universal Functions: Fast Element-wise Array Functions\n",
        "\n",
        "Many ufuncs are simple elementwise transformations, like sqrt or exp:"
      ],
      "metadata": {
        "id": "_OtS6YUzhH9w"
      }
    },
    {
      "cell_type": "code",
      "source": [
        "arr = np.arange(10)\n",
        "\n",
        "np.sqrt(arr)"
      ],
      "metadata": {
        "colab": {
          "base_uri": "https://localhost:8080/"
        },
        "id": "Lfc0GPa1fkKx",
        "outputId": "dafd76bb-95d8-4a2c-ec75-5a4b6007999b"
      },
      "execution_count": null,
      "outputs": [
        {
          "output_type": "execute_result",
          "data": {
            "text/plain": [
              "array([0.        , 1.        , 1.41421356, 1.73205081, 2.        ,\n",
              "       2.23606798, 2.44948974, 2.64575131, 2.82842712, 3.        ])"
            ]
          },
          "metadata": {},
          "execution_count": 91
        }
      ]
    },
    {
      "cell_type": "code",
      "source": [
        "np.exp(arr)"
      ],
      "metadata": {
        "colab": {
          "base_uri": "https://localhost:8080/"
        },
        "id": "DHK5VTkshQgK",
        "outputId": "d47fbbf1-996f-4e6c-aeee-ae917c51e9bf"
      },
      "execution_count": null,
      "outputs": [
        {
          "output_type": "execute_result",
          "data": {
            "text/plain": [
              "array([1.00000000e+00, 2.71828183e+00, 7.38905610e+00, 2.00855369e+01,\n",
              "       5.45981500e+01, 1.48413159e+02, 4.03428793e+02, 1.09663316e+03,\n",
              "       2.98095799e+03, 8.10308393e+03])"
            ]
          },
          "metadata": {},
          "execution_count": 92
        }
      ]
    },
    {
      "cell_type": "markdown",
      "source": [
        "Others, such as add or maximum, take 2 arrays\n",
        "(thus, binary ufuncs) and return a single array as the result:"
      ],
      "metadata": {
        "id": "ZP8NCM5RhUAw"
      }
    },
    {
      "cell_type": "code",
      "source": [
        "x = np.random.randn(8)\n",
        "y = np.random.randn(8)\n",
        "print(x)\n",
        "print(y)"
      ],
      "metadata": {
        "colab": {
          "base_uri": "https://localhost:8080/"
        },
        "id": "vQhhEgwlhUpx",
        "outputId": "e4e34c0b-5037-4c96-98f7-f8ab517808ea"
      },
      "execution_count": null,
      "outputs": [
        {
          "output_type": "stream",
          "name": "stdout",
          "text": [
            "[-0.10588567  0.76283509  1.04893057 -0.00734578  1.03786761 -1.85664786\n",
            " -1.81038683 -1.54672765]\n",
            "[-0.95316148  1.04126029  0.36256998  1.30286669  0.49104896  0.75949074\n",
            "  0.40297734  0.7963052 ]\n"
          ]
        }
      ]
    },
    {
      "cell_type": "code",
      "source": [
        "np.maximum(x, y) # element-wise maximum\n"
      ],
      "metadata": {
        "colab": {
          "base_uri": "https://localhost:8080/"
        },
        "id": "XegN-Xr_hWc4",
        "outputId": "0aad4c21-a96b-4665-82e9-ab78cd07af5f"
      },
      "execution_count": null,
      "outputs": [
        {
          "output_type": "execute_result",
          "data": {
            "text/plain": [
              "array([-0.10588567,  1.04126029,  1.04893057,  1.30286669,  1.03786761,\n",
              "        0.75949074,  0.40297734,  0.7963052 ])"
            ]
          },
          "metadata": {},
          "execution_count": 95
        }
      ]
    },
    {
      "cell_type": "markdown",
      "source": [
        "### For other math functions, please refer to https://numpy.org/doc/stable/reference/ufuncs.html"
      ],
      "metadata": {
        "id": "VeSKmlsCh2jY"
      }
    },
    {
      "cell_type": "markdown",
      "source": [
        "## Exercise\n",
        "\n",
        "1. Create a 3x3 numpy array filled with zeros\n",
        "2. Create two random array and perform a matrix multiplication.\n",
        "3. Reshape a 1D numpy array with length of 12 to 2D array with 3 rows 4 columns.\n",
        "4. Create a random array with a shape of 4 cows and 3 columns. Access the last row and last column element.\n",
        "5. Perform a element-wise addition of two arrays.\n"
      ],
      "metadata": {
        "id": "MDW7-H2miPJn"
      }
    },
    {
      "cell_type": "code",
      "source": [
        "# Your answer her"
      ],
      "metadata": {
        "id": "ip2-EnDIiRIn"
      },
      "execution_count": null,
      "outputs": []
    },
    {
      "cell_type": "markdown",
      "source": [
        "### Submission: File > Print > As PDF > Submit in ODL Platform\n",
        "### Make sure the answer is visible in PDF format.\n",
        "### Deadline: 1 week after today class."
      ],
      "metadata": {
        "id": "lH7Xy1ddjPLn"
      }
    }
  ]
}